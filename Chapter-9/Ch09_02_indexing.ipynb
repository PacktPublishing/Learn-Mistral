{
  "cells": [
    {
      "cell_type": "markdown",
      "metadata": {
        "id": "qhtVYptvlugO"
      },
      "source": [
        "# Generate real embeddings using Mistral API's `codestral-embed` model."
      ]
    },
    {
      "cell_type": "code",
      "execution_count": null,
      "metadata": {
        "id": "TdvtlJLXmebE"
      },
      "outputs": [],
      "source": [
        "!pip install mistralai"
      ]
    },
    {
      "cell_type": "code",
      "execution_count": null,
      "metadata": {
        "id": "rwYIeFNOj9Bz"
      },
      "outputs": [],
      "source": [
        "from mistralai import Mistral\n",
        "import os\n",
        "\n",
        "os.environ[\"MISTRAL_API_KEY\"] = \"<your_mistral_api_key>\" # Replace with your actual Mistral API key\n",
        "\n",
        "client = Mistral(api_key=os.getenv(\"MISTRAL_API_KEY\"))\n",
        "\n",
        "texts = [\n",
        "    \"Apple is a fruit.\",\n",
        "    \"Bananas are yellow.\",\n",
        "    \"Cherries grow on trees.\"\n",
        "]\n",
        "response = client.embeddings.create(model=\"mistral-embed\", inputs=texts)\n",
        "vectors = [item.embedding for item in response.data]"
      ]
    },
    {
      "cell_type": "markdown",
      "metadata": {
        "id": "krbCGIAmmNXC"
      },
      "source": [
        "# Store and search Mistral-generated embeddings using Weaviate vector database.\n",
        "\n",
        "## ✅ Step-by-Step: Create Your Free Weaviate Cluster\n",
        "\n",
        "1. Go to: [https://console.weaviate.cloud](https://console.weaviate.cloud)\n",
        "2. Log in with GitHub or email\n",
        "3. Click **\"Create Cluster\"**\n",
        "4. Choose:\n",
        "   - **Tier**: `Sandbox`\n",
        "   - **Vectorizer**: `none`\n",
        "   - **Name**: `mistral-demo`\n",
        "5. Wait 1–2 minutes for the cluster to be ready\n",
        "6. Click into your cluster and copy:\n",
        "   - The **URL** (e.g. `https://mistral-demo.weaviate.network`)\n",
        "   - Your **API key** (if authentication is enabled)"
      ]
    },
    {
      "cell_type": "code",
      "execution_count": null,
      "metadata": {
        "id": "q1HrfFIUn1ZV"
      },
      "outputs": [],
      "source": [
        "!pip. install weaviate-client"
      ]
    },
    {
      "cell_type": "code",
      "execution_count": null,
      "metadata": {
        "id": "6jx34pRDmNrN"
      },
      "outputs": [],
      "source": [
        "import weaviate\n",
        "import uuid\n",
        "\n",
        "# Setup Weaviate Cloud (replace with your real URL/API key)\n",
        "WEAVIATE_URL = \"https://your-cluster.weaviate.network\"\n",
        "WEAVIATE_API_KEY = None  # Or use your actual API key if enabled\n",
        "\n",
        "auth_config = weaviate.auth.AuthApiKey(api_key=WEAVIATE_API_KEY) if WEAVIATE_API_KEY else None\n",
        "client_w = weaviate.Client(\n",
        "    url=WEAVIATE_URL,\n",
        "    auth_client_secret=auth_config\n",
        ")\n",
        "\n",
        "# Define schema\n",
        "class_def = {\n",
        "    \"class\": \"Doc\",\n",
        "    \"vectorizer\": \"none\",\n",
        "    \"properties\": [{\"name\": \"text\", \"dataType\": [\"text\"]}]\n",
        "}\n",
        "if not client_w.schema.contains({\"classes\": [class_def]}):\n",
        "    client_w.schema.create_class(class_def)\n",
        "\n",
        "# Insert data\n",
        "for text, vec in zip(texts, vectors):\n",
        "    client_w.data_object.create({\"text\": text}, vector=vec, class_name=\"Doc\", uuid=str(uuid.uuid4()))\n",
        "\n",
        "# Search\n",
        "query = \"Yellow fruit\"\n",
        "q_vec = client.embeddings.create(model=\"codestral-embed\", inputs=[query]).data[0].embedding\n",
        "\n",
        "res = client_w.query.get(\"Doc\", [\"text\"]).with_near_vector({\"vector\": q_vec}).with_limit(2).do()\n",
        "print(res[\"data\"][\"Get\"][\"Doc\"])"
      ]
    },
    {
      "cell_type": "markdown",
      "metadata": {
        "id": "F85stEv-mk2k"
      },
      "source": [
        "# Insert and search Mistral embeddings in Milvus vector database using pymilvus.\n",
        "\n",
        "## ✅ Step-by-Step: Create Your Free Zilliz Cloud Cluster\n",
        "\n",
        "1. Go to: [https://zilliz.com/cloud](https://zilliz.com/cloud)\n",
        "2. Sign up or log in\n",
        "3. Click **\"Create Cluster\"**\n",
        "   - Choose **Serverless**\n",
        "   - Select **Region**, name your cluster (e.g., `mistral-demo`)\n",
        "   - Choose the **Free Tier** (sandbox)\n",
        "4. Wait 1–2 minutes for provisioning\n",
        "5. Once running, click the cluster to get:\n",
        "   - `API Endpoint`: e.g., `https://xxxx.api.zillizcloud.com`\n",
        "   - `API Key`: copy the access token"
      ]
    },
    {
      "cell_type": "code",
      "execution_count": null,
      "metadata": {
        "id": "Pyb6RJP5muHs"
      },
      "outputs": [],
      "source": [
        "!pip install pymilvus"
      ]
    },
    {
      "cell_type": "code",
      "execution_count": null,
      "metadata": {
        "id": "Y3vwwxxfmpU6"
      },
      "outputs": [],
      "source": [
        "from pymilvus import connections, FieldSchema, CollectionSchema, DataType, Collection\n",
        "from mistralai import Mistral\n",
        "import os\n",
        "\n",
        "\n",
        "# Connect to Zilliz Serverless\n",
        "connections.connect(\n",
        "    uri=\"https://your-cluster-name.api.zillizcloud.com\",\n",
        "    token=\"your-api-key\"\n",
        ")\n",
        "\n",
        "# Define collection schema\n",
        "fields = [\n",
        "    FieldSchema(name=\"id\", dtype=DataType.INT64, is_primary=True, auto_id=False),\n",
        "    FieldSchema(name=\"embedding\", dtype=DataType.FLOAT_VECTOR, dim=len(vectors[0]))\n",
        "]\n",
        "schema = CollectionSchema(fields, description=\"Mistral Embeddings Example\")\n",
        "collection_name = \"mistral_demo\"\n",
        "\n",
        "# Create collection\n",
        "if collection_name not in [c.name for c in Collection.list()]:\n",
        "    col = Collection(name=collection_name, schema=schema)\n",
        "    col.create_index(\"embedding\", {\"index_type\": \"IVF_FLAT\", \"metric_type\": \"L2\", \"params\": {\"nlist\": 16}})\n",
        "    col.load()\n",
        "else:\n",
        "    col = Collection(collection_name)\n",
        "    col.load()\n",
        "\n",
        "# Insert vectors\n",
        "ids = list(range(len(vectors)))\n",
        "col.insert([ids, vectors])\n",
        "\n",
        "# Query\n",
        "query = \"Yellow fruit\"\n",
        "query_vec = client.embeddings.create(model=\"codestral-embed\", inputs=[query]).data[0].embedding\n",
        "\n",
        "results = col.search(\n",
        "    data=[query_vec],\n",
        "    anns_field=\"embedding\",\n",
        "    param={\"metric_type\": \"L2\", \"params\": {\"nprobe\": 10}},\n",
        "    limit=2\n",
        ")\n",
        "\n",
        "# Print results\n",
        "for hits in results:\n",
        "    for hit in hits:\n",
        "        print(f\"Match ID: {hit.id}, distance: {hit.distance:.4f}\")"
      ]
    }
  ],
  "metadata": {
    "colab": {
      "provenance": []
    },
    "kernelspec": {
      "display_name": "Python 3",
      "name": "python3"
    },
    "language_info": {
      "name": "python"
    }
  },
  "nbformat": 4,
  "nbformat_minor": 0
}
