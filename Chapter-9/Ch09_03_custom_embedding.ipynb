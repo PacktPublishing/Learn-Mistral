{
  "cells": [
    {
      "cell_type": "markdown",
      "metadata": {
        "id": "lcF9gkUOvU1W"
      },
      "source": [
        "# 🧢 Mixed-Type Domain-Specific Embeddings (Fashion/Retail Example)\n",
        "\n",
        "Our custom embedding model uses a 12-dimensional feature vector where:\n",
        "- Some fields are binary (0/1)\n",
        "- Some are encoded as integers (0–255) based on domain-specific lookups (e.g., color IDs, size ranks)\n",
        "\n"
      ]
    },
    {
      "cell_type": "markdown",
      "metadata": {
        "id": "bA8fxvy9yOqS"
      },
      "source": [
        "## 🧢 FashionVectorizer: Domain-Specific Vector Encoder for Retail Search\n",
        "\n",
        "The `FashionVectorizer` class is a utility that converts fashion catalog data and user search descriptions into 12-dimensional semantic vectors. These vectors are designed for **clothing and shoe product indexing, similarity search, and recommendation systems**.\n",
        "\n",
        "This approach enables **interpretable, explainable embeddings** with both binary and integer values reflecting domain-specific features like color, size, material, weather resistance, and use case.\n",
        "\n",
        "---\n",
        "\n",
        "### 🧬 Vector Schema (12 Dimensions)\n",
        "\n",
        "| Dim | Feature                     | Type     | Notes                                                   |\n",
        "|-----|-----------------------------|----------|----------------------------------------------------------|\n",
        "| 0   | Is footwear                 | binary   | 1 = shoes, boots, sneakers                               |\n",
        "| 1   | Is outerwear                | binary   | 1 = jacket, coat                                         |\n",
        "| 2   | For kids                    | binary   | based on 'target' field or query context                |\n",
        "| 3   | Waterproof                  | binary   | 1 = water resistant gear                                 |\n",
        "| 4   | Use case code               | integer  | 0 = casual, 1 = formal, 2 = sport, 3 = workwear          |\n",
        "| 5   | Color code                  | integer  | Based on lookup table (0–255)                            |\n",
        "| 6   | Size code                   | integer  | XS–XL mapped to range (80–230)                           |\n",
        "| 7   | Has memory foam insole      | binary   | comfort enhancement, mostly in shoes                    |\n",
        "| 8   | Insulated/thermal lining    | binary   | relevant for winter gear                                |\n",
        "| 9   | Oversized                   | binary   | relaxed fit style                                        |\n",
        "| 10  | Denim/jeans-style           | binary   | checks for 'denim' in material or query text             |\n",
        "| 11  | Brand popularity score      | integer  | default = 50, range 0–100 (manual or learned ranking)    |\n",
        "\n",
        "---\n",
        "\n",
        "### ✅ Methods\n",
        "\n",
        "- `json_to_vector(item_dict)`  \n",
        "  Converts a catalog JSON line to a 12-dimensional embedding.\n",
        "\n",
        "- `description_to_vector(query_text)`  \n",
        "  Converts a user-friendly product search into an interpretable embedding.\n",
        "\n",
        "- `vector_to_jsonl(vector, name, id)`  \n",
        "  Wraps a vector and metadata back into JSONL format (ready for indexing).\n",
        "\n",
        "---\n",
        "\n",
        "### 💡 Example: Vector from Catalog Entry\n",
        "\n",
        "```python\n",
        "fv = FashionVectorizer()\n",
        "\n",
        "item = {\n",
        "  \"id\": \"item_42\",\n",
        "  \"name\": \"Brown waterproof boots, thermal lining\",\n",
        "  \"type\": \"boots\",\n",
        "  \"color\": \"brown\",\n",
        "  \"size\": \"M\",\n",
        "  \"target\": \"kids\",\n",
        "  \"use_case\": \"casual\",\n",
        "  \"material\": \"leather\",\n",
        "  \"foam\": False,\n",
        "  \"thermal\": True,\n",
        "  \"oversized\": False,\n",
        "  \"waterproof\": True,\n",
        "  \"brand_score\": 75\n",
        "}\n",
        "\n",
        "vector = fv.json_to_vector(item)\n",
        "```\n",
        "\n",
        "---\n",
        "\n",
        "### 💬 Example: Vector from Natural Query\n",
        "\n",
        "```python\n",
        "query = \"Looking for warm waterproof kids boots, size M, brown\"\n",
        "vector = fv.description_to_vector(query)\n",
        "```\n",
        "\n",
        "---\n",
        "\n",
        "### 🔁 Rebuild JSONL Line from Vector\n",
        "\n",
        "```python\n",
        "jsonl_line = fv.vector_to_jsonl(vector, name=\"Query: boots\", item_id=\"query_1\")\n",
        "```\n",
        "\n",
        "\n",
        "\n",
        "\n"
      ]
    },
    {
      "cell_type": "code",
      "execution_count": null,
      "metadata": {
        "id": "iruGh-fhyPGp"
      },
      "outputs": [],
      "source": [
        "import re\n",
        "from typing import Dict, List\n",
        "\n",
        "class FashionVectorizer:\n",
        "    def __init__(self):\n",
        "        self.color_lookup = {\n",
        "            \"black\": 0, \"white\": 255, \"gray\": 128, \"red\": 50,\n",
        "            \"blue\": 75, \"brown\": 35, \"green\": 90, \"beige\": 60\n",
        "        }\n",
        "        self.size_lookup = {\n",
        "            \"xs\": 80, \"s\": 100, \"m\": 150, \"l\": 200, \"xl\": 230\n",
        "        }\n",
        "        self.use_case_lookup = {\n",
        "            \"casual\": 0, \"formal\": 1, \"sport\": 2, \"workwear\": 3\n",
        "        }\n",
        "\n",
        "    def json_to_vector(self, item: Dict) -> List[float]:\n",
        "        return [\n",
        "            1 if item[\"type\"] in [\"shoes\", \"boots\", \"sneakers\"] else 0,\n",
        "            1 if item[\"type\"] in [\"jacket\", \"coat\"] else 0,\n",
        "            1 if item.get(\"target\") == \"kids\" else 0,\n",
        "            1 if item.get(\"waterproof\", False) else 0,\n",
        "            self.use_case_lookup.get(item.get(\"use_case\", \"casual\"), 0),\n",
        "            self.color_lookup.get(item.get(\"color\", \"gray\"), 128),\n",
        "            self.size_lookup.get(item.get(\"size\", \"m\").lower(), 150),\n",
        "            1 if item.get(\"foam\", False) else 0,\n",
        "            1 if item.get(\"thermal\", False) else 0,\n",
        "            1 if item.get(\"oversized\", False) else 0,\n",
        "            1 if \"denim\" in item.get(\"material\", \"\") else 0,\n",
        "            item.get(\"brand_score\", 50)\n",
        "        ]\n",
        "\n",
        "    def description_to_vector(self, description: str) -> List[float]:\n",
        "        description = description.lower()\n",
        "        return [\n",
        "            int(any(k in description for k in [\"shoes\", \"boots\", \"sneakers\"])),\n",
        "            int(any(k in description for k in [\"jacket\", \"coat\"])),\n",
        "            int(any(k in description for k in [\"kid\", \"child\", \"children\", \"toddler\", \"youth\"])),\n",
        "            int(any(k in description for k in [\"waterproof\", \"rain\", \"wet\"])),\n",
        "            next((v for k, v in self.use_case_lookup.items() if k in description), 0),\n",
        "            next((v for k, v in self.color_lookup.items() if k in description), 128),\n",
        "            next((v for k, v in self.size_lookup.items() if re.search(rf\"\\\\b{k}\\\\b\", description)), 150),\n",
        "            int(any(k in description for k in [\"foam\", \"insole\", \"comfort\"])),\n",
        "            int(any(k in description for k in [\"warm\", \"thermal\", \"insulated\", \"winter\"])),\n",
        "            int(any(k in description for k in [\"oversized\", \"loose\", \"relaxed\"])),\n",
        "            int(any(k in description for k in [\"denim\", \"jean\"])),\n",
        "            50  # default brand popularity\n",
        "        ]\n",
        "\n",
        "    def vector_to_jsonl(self, vector: List[float], name: str, item_id: str) -> Dict:\n",
        "        return {\n",
        "            \"id\": item_id,\n",
        "            \"name\": name,\n",
        "            \"vector\": vector\n",
        "        }\n"
      ]
    },
    {
      "cell_type": "markdown",
      "metadata": {
        "id": "W5JHuboQvrFd"
      },
      "source": [
        "## Generate Data with various clothing and footwear articles"
      ]
    },
    {
      "cell_type": "code",
      "execution_count": null,
      "metadata": {
        "id": "jk7fspB2vzMu"
      },
      "outputs": [],
      "source": [
        "import json\n",
        "import random\n",
        "\n",
        "fv = FashionVectorizer()\n",
        "\n",
        "types = [\"sneakers\", \"boots\", \"jacket\", \"coat\", \"dress\", \"pants\", \"sweater\"]\n",
        "colors = list(fv.color_lookup.keys())\n",
        "sizes = list(fv.size_lookup.keys())\n",
        "targets = [\"men\", \"women\", \"kids\", \"unisex\"]\n",
        "use_cases = list(fv.use_case_lookup.keys())\n",
        "materials = [\"denim\", \"cotton\", \"leather\", \"polyester\", \"wool\", \"canvas\"]\n",
        "\n",
        "def random_item(i):\n",
        "    item = {\n",
        "        \"id\": f\"item_{i}\",\n",
        "        \"name\": f\"{random.choice(colors)} {random.choice(sizes)} {random.choice(types)}\",\n",
        "        \"type\": random.choice(types),\n",
        "        \"color\": random.choice(colors),\n",
        "        \"size\": random.choice(sizes),\n",
        "        \"target\": random.choice(targets),\n",
        "        \"use_case\": random.choice(use_cases),\n",
        "        \"material\": random.choice(materials),\n",
        "        \"foam\": random.choice([True, False]),\n",
        "        \"thermal\": random.choice([True, False]),\n",
        "        \"oversized\": random.choice([True, False]),\n",
        "        \"waterproof\": random.choice([True, False]),\n",
        "        \"brand_score\": random.randint(30, 100)\n",
        "    }\n",
        "    return item\n",
        "\n",
        "with open(\"products.jsonl\", \"w\") as f:\n",
        "    for i in range(500):\n",
        "        product = random_item(i)\n",
        "        f.write(json.dumps(product) + \"\\n\")\n",
        "\n"
      ]
    },
    {
      "cell_type": "markdown",
      "metadata": {
        "id": "WAoyMsI4wB_P"
      },
      "source": [
        "## Index Embeddings into ChromaDB"
      ]
    },
    {
      "cell_type": "code",
      "execution_count": null,
      "metadata": {
        "id": "Rseu9W6iwHHL"
      },
      "outputs": [],
      "source": [
        "!pip install chromadb"
      ]
    },
    {
      "cell_type": "code",
      "execution_count": null,
      "metadata": {
        "id": "fGJzdb0dwDh3"
      },
      "outputs": [],
      "source": [
        "import chromadb\n",
        "from chromadb.config import Settings\n",
        "\n",
        "chroma_client = chromadb.Client(Settings(anonymized_telemetry=False))\n",
        "collection = chroma_client.get_or_create_collection(name=\"fashion_items\")\n",
        "\n",
        "fv = FashionVectorizer()\n",
        "\n",
        "ids, docs, vectors = [], [], []\n",
        "\n",
        "with open(\"products.jsonl\", \"r\") as f:\n",
        "    for line in f:\n",
        "        item = json.loads(line)\n",
        "        vector = fv.json_to_vector(item)\n",
        "        ids.append(item[\"id\"])\n",
        "        docs.append(item[\"name\"])\n",
        "        vectors.append(vector)\n",
        "\n",
        "collection.add(\n",
        "    ids=ids,\n",
        "    documents=docs,\n",
        "    embeddings=vectors\n",
        ")\n",
        "\n",
        "print(f\"✅ {len(ids)} items indexed to ChromaDB.\")\n"
      ]
    },
    {
      "cell_type": "markdown",
      "metadata": {
        "id": "ypQ6RamcwSjQ"
      },
      "source": [
        "## Client code to Query Closest Cosine Match"
      ]
    },
    {
      "cell_type": "code",
      "execution_count": null,
      "metadata": {
        "id": "I45UgfzowWHb"
      },
      "outputs": [],
      "source": [
        "# Human input\n",
        "query = \"I'm looking for a black oversized denim jacket for casual use\"\n",
        "\n",
        "# Convert using FashionVectorizer\n",
        "fv = FashionVectorizer()\n",
        "query_vector = fv.description_to_vector(query)\n",
        "\n",
        "# Search ChromaDB\n",
        "results = collection.query(\n",
        "    query_embeddings=[query_vector],\n",
        "    n_results=3,\n",
        "    include=[\"distances\", \"documents\"]\n",
        ")\n",
        "\n",
        "# Show matches\n",
        "for doc, dist in zip(results[\"documents\"][0], results[\"distances\"][0]):\n",
        "    print(f\"🧵 Match: {doc} (Distance: {dist:.4f})\")\n"
      ]
    }
  ],
  "metadata": {
    "colab": {
      "provenance": []
    },
    "kernelspec": {
      "display_name": "Python 3",
      "name": "python3"
    },
    "language_info": {
      "name": "python"
    }
  },
  "nbformat": 4,
  "nbformat_minor": 0
}
