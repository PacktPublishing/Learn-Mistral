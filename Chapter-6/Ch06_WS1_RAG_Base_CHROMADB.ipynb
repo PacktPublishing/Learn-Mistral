{
  "cells": [
    {
      "cell_type": "markdown",
      "id": "oD6r-87Ckblg",
      "metadata": {
        "id": "oD6r-87Ckblg"
      },
      "source": [
        "## Environment Setup"
      ]
    },
    {
      "cell_type": "code",
      "execution_count": null,
      "id": "3a88555a-53a5-4ab8-ba3d-e6dd3a26c71a",
      "metadata": {
        "collapsed": true,
        "id": "3a88555a-53a5-4ab8-ba3d-e6dd3a26c71a"
      },
      "outputs": [],
      "source": [
        "! pip install langchain_community langchain_mistralai langchainhub langchain tiktoken chromadb"
      ]
    },
    {
      "cell_type": "code",
      "execution_count": null,
      "id": "b76f68a8-4745-4377-8057-6090b87377d1",
      "metadata": {
        "id": "b76f68a8-4745-4377-8057-6090b87377d1"
      },
      "outputs": [],
      "source": [
        "import os\n",
        "os.environ['LANGCHAIN_TRACING_V2'] = 'true'\n",
        "os.environ['LANGCHAIN_ENDPOINT'] = 'https://api.smith.langchain.com'\n",
        "os.environ['LANGCHAIN_API_KEY'] = '<your LangChain API KEY goes here>'\n",
        "os.environ['MISTRAL_API_KEY'] = '<your Mistral API KEY goes here>'\n",
        "os.environ['HF_TOKEN'] = '<your Hugging Face TOKEN goes here>'"
      ]
    },
    {
      "cell_type": "code",
      "execution_count": null,
      "id": "4neC9ckAgRD8",
      "metadata": {
        "id": "4neC9ckAgRD8"
      },
      "outputs": [],
      "source": [
        "questions = [ \"Who is the main character in Moby Dick?\",\n",
        "              \"Who is Ishmael, and why is he important?\",\n",
        "              \"What role does Queequeg play in Moby Dick?\"]"
      ]
    },
    {
      "cell_type": "markdown",
      "id": "18e8e856-bafd-469e-b99a-11596b18aad4",
      "metadata": {
        "id": "18e8e856-bafd-469e-b99a-11596b18aad4"
      },
      "source": [
        "## Indexing"
      ]
    },
    {
      "cell_type": "markdown",
      "id": "aAFUosZmLEcH",
      "metadata": {
        "id": "aAFUosZmLEcH"
      },
      "source": [
        "### Load the text"
      ]
    },
    {
      "cell_type": "code",
      "execution_count": null,
      "id": "5778c31a-6138-4130-8865-31a08e82b9fb",
      "metadata": {
        "id": "5778c31a-6138-4130-8865-31a08e82b9fb"
      },
      "outputs": [],
      "source": [
        "from langchain_community.document_loaders import WebBaseLoader\n",
        "# there can be mulitple urls\n",
        "loader = WebBaseLoader(\"https://www.gutenberg.org/cache/epub/2701/pg2701.txt\")\n",
        "books = loader.load()"
      ]
    },
    {
      "cell_type": "markdown",
      "id": "6fOwuVrhLo1i",
      "metadata": {
        "id": "6fOwuVrhLo1i"
      },
      "source": [
        "### Splitting the text"
      ]
    },
    {
      "cell_type": "code",
      "execution_count": null,
      "id": "e668d339-3951-4662-8387-c3d296646906",
      "metadata": {
        "id": "e668d339-3951-4662-8387-c3d296646906"
      },
      "outputs": [],
      "source": [
        "from langchain.text_splitter import RecursiveCharacterTextSplitter\n",
        "text_splitter = RecursiveCharacterTextSplitter.from_tiktoken_encoder(\n",
        "    chunk_size=300,\n",
        "    chunk_overlap=50)\n",
        "\n",
        "# Make splits\n",
        "splits = text_splitter.split_documents(books)\n",
        "len(splits)"
      ]
    },
    {
      "cell_type": "markdown",
      "id": "JtrUFAcigXty",
      "metadata": {
        "id": "JtrUFAcigXty"
      },
      "source": [
        "### Indexing to ChromaDB"
      ]
    },
    {
      "cell_type": "code",
      "execution_count": null,
      "id": "2P1_Xz7klMrf",
      "metadata": {
        "id": "2P1_Xz7klMrf"
      },
      "outputs": [],
      "source": [
        "from langchain_mistralai import MistralAIEmbeddings\n",
        "from langchain_community.vectorstores import Chroma\n",
        "\n",
        "vectorstore = Chroma.from_documents(documents=splits,\n",
        "                                    embedding=MistralAIEmbeddings())"
      ]
    },
    {
      "cell_type": "markdown",
      "id": "14JrWE93lHIX",
      "metadata": {
        "id": "14JrWE93lHIX"
      },
      "source": [
        "\n",
        "## Retrieval"
      ]
    },
    {
      "cell_type": "markdown",
      "id": "aSYaHbIuTAUN",
      "metadata": {
        "id": "aSYaHbIuTAUN"
      },
      "source": [
        "### Retrieval of relevant documents"
      ]
    },
    {
      "cell_type": "code",
      "execution_count": null,
      "id": "dstQ1O3uPtVO",
      "metadata": {
        "id": "dstQ1O3uPtVO"
      },
      "outputs": [],
      "source": [
        "retriever = vectorstore.as_retriever(search_kwargs={\"k\": 1})\n",
        "docs = retriever.get_relevant_documents(questions[0])\n",
        "len(docs)\n",
        "docs[0]"
      ]
    },
    {
      "cell_type": "markdown",
      "id": "beda1b07-7bd2-4f5b-8d44-1fc52f5d2ce2",
      "metadata": {
        "id": "beda1b07-7bd2-4f5b-8d44-1fc52f5d2ce2"
      },
      "source": [
        "# Generation"
      ]
    },
    {
      "cell_type": "markdown",
      "id": "MZ2wmk-zMRbV",
      "metadata": {
        "id": "MZ2wmk-zMRbV"
      },
      "source": [
        "## Initializing the Prompt template for Generator"
      ]
    },
    {
      "cell_type": "code",
      "execution_count": null,
      "id": "8beb6c14-5e18-43e7-9d04-59e3b8a81cc9",
      "metadata": {
        "id": "8beb6c14-5e18-43e7-9d04-59e3b8a81cc9"
      },
      "outputs": [],
      "source": [
        "from langchain_mistralai import ChatMistralAI\n",
        "from langchain.prompts import ChatPromptTemplate\n",
        "\n",
        "# Prompt\n",
        "template = \"\"\"Answer the question based only on the following context:\n",
        "{context}\n",
        "\n",
        "Question: {question}\n",
        "\"\"\"\n",
        "\n",
        "prompt = ChatPromptTemplate.from_template(template)\n",
        "prompt"
      ]
    },
    {
      "cell_type": "markdown",
      "id": "k3k6dRN2MYoY",
      "metadata": {
        "id": "k3k6dRN2MYoY"
      },
      "source": [
        "## Init LLM"
      ]
    },
    {
      "cell_type": "code",
      "execution_count": null,
      "id": "e4461264-5cac-479a-917c-9bf589826da4",
      "metadata": {
        "id": "e4461264-5cac-479a-917c-9bf589826da4"
      },
      "outputs": [],
      "source": [
        "# LLM\n",
        "llm = ChatMistralAI(model_name=\"mistral-large-latest\", temperature=0)"
      ]
    },
    {
      "cell_type": "markdown",
      "id": "821_lvOvMbSA",
      "metadata": {
        "id": "821_lvOvMbSA"
      },
      "source": [
        "## Init simple Chain"
      ]
    },
    {
      "cell_type": "code",
      "execution_count": null,
      "id": "55d6629f-18ec-4372-a557-b254fbb1dd2d",
      "metadata": {
        "id": "55d6629f-18ec-4372-a557-b254fbb1dd2d"
      },
      "outputs": [],
      "source": [
        "# Chain\n",
        "chain = prompt | llm"
      ]
    },
    {
      "cell_type": "markdown",
      "id": "shJeqEroMgTg",
      "metadata": {
        "id": "shJeqEroMgTg"
      },
      "source": [
        "## Invoking the trivial chain for a given user question"
      ]
    },
    {
      "cell_type": "code",
      "execution_count": null,
      "id": "94470770-8df4-4359-9504-ef6c8b3137ff",
      "metadata": {
        "id": "94470770-8df4-4359-9504-ef6c8b3137ff"
      },
      "outputs": [],
      "source": [
        "# Run\n",
        "chain.invoke({\"context\":docs,\"question\":questions[0]})"
      ]
    },
    {
      "cell_type": "markdown",
      "id": "vpmoBjjmMqjM",
      "metadata": {
        "id": "vpmoBjjmMqjM"
      },
      "source": [
        "## Preparing and calling RAG chain (with parameter, parser)"
      ]
    },
    {
      "cell_type": "code",
      "execution_count": null,
      "id": "8208a8bc-c75f-4e8e-8601-680746cd6276",
      "metadata": {
        "id": "8208a8bc-c75f-4e8e-8601-680746cd6276"
      },
      "outputs": [],
      "source": [
        "from langchain_core.output_parsers import StrOutputParser\n",
        "from langchain_core.runnables import RunnablePassthrough\n",
        "\n",
        "rag_chain = (\n",
        "    {\"context\": retriever, \"question\": RunnablePassthrough()}\n",
        "    | prompt\n",
        "    | llm\n",
        "    | StrOutputParser()\n",
        ")\n",
        "for question in questions:\n",
        "    print(\"-------------\")\n",
        "    print(question)\n",
        "    print(rag_chain.invoke(question))"
      ]
    }
  ],
  "metadata": {
    "colab": {
      "provenance": []
    },
    "kernelspec": {
      "display_name": "Python 3 (ipykernel)",
      "language": "python",
      "name": "python3"
    },
    "language_info": {
      "codemirror_mode": {
        "name": "ipython",
        "version": 3
      },
      "file_extension": ".py",
      "mimetype": "text/x-python",
      "name": "python",
      "nbconvert_exporter": "python",
      "pygments_lexer": "ipython3",
      "version": "3.11.8"
    }
  },
  "nbformat": 4,
  "nbformat_minor": 5
}
